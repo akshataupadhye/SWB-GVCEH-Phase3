{
  "nbformat": 4,
  "nbformat_minor": 0,
  "metadata": {
    "colab": {
      "provenance": [],
      "authorship_tag": "ABX9TyNmY2jLMAbQKt9YwgLhU10g",
      "include_colab_link": true
    },
    "kernelspec": {
      "name": "python3",
      "display_name": "Python 3"
    },
    "language_info": {
      "name": "python"
    }
  },
  "cells": [
    {
      "cell_type": "markdown",
      "metadata": {
        "id": "view-in-github",
        "colab_type": "text"
      },
      "source": [
        "<a href=\"https://colab.research.google.com/github/akshataupadhye/SWB-GVCEH-Phase3/blob/main/sentiment_analysis/RedditSentimentAnalysisTest.ipynb\" target=\"_parent\"><img src=\"https://colab.research.google.com/assets/colab-badge.svg\" alt=\"Open In Colab\"/></a>"
      ]
    },
    {
      "cell_type": "code",
      "execution_count": null,
      "metadata": {
        "id": "kEMrbebQyu1p",
        "colab": {
          "base_uri": "https://localhost:8080/"
        },
        "outputId": "aeccd109-6789-4303-b62c-3bbe379567d2"
      },
      "outputs": [
        {
          "output_type": "stream",
          "name": "stdout",
          "text": [
            "Requirement already satisfied: transformers in /usr/local/lib/python3.10/dist-packages (4.38.2)\n",
            "Requirement already satisfied: filelock in /usr/local/lib/python3.10/dist-packages (from transformers) (3.13.1)\n",
            "Requirement already satisfied: huggingface-hub<1.0,>=0.19.3 in /usr/local/lib/python3.10/dist-packages (from transformers) (0.20.3)\n",
            "Requirement already satisfied: numpy>=1.17 in /usr/local/lib/python3.10/dist-packages (from transformers) (1.25.2)\n",
            "Requirement already satisfied: packaging>=20.0 in /usr/local/lib/python3.10/dist-packages (from transformers) (24.0)\n",
            "Requirement already satisfied: pyyaml>=5.1 in /usr/local/lib/python3.10/dist-packages (from transformers) (6.0.1)\n",
            "Requirement already satisfied: regex!=2019.12.17 in /usr/local/lib/python3.10/dist-packages (from transformers) (2023.12.25)\n",
            "Requirement already satisfied: requests in /usr/local/lib/python3.10/dist-packages (from transformers) (2.31.0)\n",
            "Requirement already satisfied: tokenizers<0.19,>=0.14 in /usr/local/lib/python3.10/dist-packages (from transformers) (0.15.2)\n",
            "Requirement already satisfied: safetensors>=0.4.1 in /usr/local/lib/python3.10/dist-packages (from transformers) (0.4.2)\n",
            "Requirement already satisfied: tqdm>=4.27 in /usr/local/lib/python3.10/dist-packages (from transformers) (4.66.2)\n",
            "Requirement already satisfied: fsspec>=2023.5.0 in /usr/local/lib/python3.10/dist-packages (from huggingface-hub<1.0,>=0.19.3->transformers) (2023.6.0)\n",
            "Requirement already satisfied: typing-extensions>=3.7.4.3 in /usr/local/lib/python3.10/dist-packages (from huggingface-hub<1.0,>=0.19.3->transformers) (4.10.0)\n",
            "Requirement already satisfied: charset-normalizer<4,>=2 in /usr/local/lib/python3.10/dist-packages (from requests->transformers) (3.3.2)\n",
            "Requirement already satisfied: idna<4,>=2.5 in /usr/local/lib/python3.10/dist-packages (from requests->transformers) (3.6)\n",
            "Requirement already satisfied: urllib3<3,>=1.21.1 in /usr/local/lib/python3.10/dist-packages (from requests->transformers) (2.0.7)\n",
            "Requirement already satisfied: certifi>=2017.4.17 in /usr/local/lib/python3.10/dist-packages (from requests->transformers) (2024.2.2)\n"
          ]
        }
      ],
      "source": [
        "!pip install transformers"
      ]
    },
    {
      "cell_type": "code",
      "source": [
        "import pandas as pd\n",
        "from transformers import pipeline"
      ],
      "metadata": {
        "id": "wTVHwErvzGvq"
      },
      "execution_count": null,
      "outputs": []
    },
    {
      "cell_type": "code",
      "source": [
        "def sentiment_analysis_reddit(text):\n",
        "    # Initialize sentiment analysis pipeline\n",
        "    sentiment_analyzer = pipeline('sentiment-analysis', model=\"cardiffnlp/twitter-roberta-base-sentiment-latest\", device=-1, truncation=True)\n",
        "    sentiment_analyzer.tokenizer.model_max_length = 512\n",
        "\n",
        "    # Analyze sentiment for each segment\n",
        "    sentiment_results = []\n",
        "\n",
        "    # Counters for sentiments and scores\n",
        "    sentiment_counts = {'positive': 0, 'negative': 0, 'neutral': 0}\n",
        "    sentiment_scores = {'positive': 0, 'negative': 0, 'neutral': 0}\n",
        "\n",
        "    # Segment the text\n",
        "    segments = text.split('\\n')  # Split by newline\n",
        "\n",
        "    for segment in segments:\n",
        "        # Optionally, filter out segments that are too short or not meaningful\n",
        "        if len(segment.strip()) > 0:\n",
        "            result = sentiment_analyzer(segment)[0]\n",
        "            sentiment_label = result['label']\n",
        "            sentiment_score = result['score']\n",
        "\n",
        "            sentiment_results.append({\n",
        "                'segment': segment,\n",
        "                'sentiment_label': sentiment_label,\n",
        "                'scores': sentiment_score\n",
        "            })\n",
        "\n",
        "            # Update sentiment and score counters\n",
        "            sentiment_counts[sentiment_label] += 1\n",
        "            sentiment_scores[sentiment_label] += sentiment_score\n",
        "\n",
        "  # Determine overall sentiment based on total scores\n",
        "    if sum(sentiment_counts.values()) > 0:  # Check if any segment with non-zero sentiment scores\n",
        "        overall_sentiment = max(sentiment_scores, key=sentiment_scores.get)\n",
        "        overall_sentiment_score = sentiment_scores[overall_sentiment] / sentiment_counts[overall_sentiment]\n",
        "    else:\n",
        "        overall_sentiment = None\n",
        "        overall_sentiment_score = None\n",
        "\n",
        "\n",
        "    return {'label': overall_sentiment.capitalize(), 'score': overall_sentiment_score}\n"
      ],
      "metadata": {
        "id": "o5YYpIvGucOf"
      },
      "execution_count": null,
      "outputs": []
    },
    {
      "cell_type": "code",
      "source": [
        "test_df = pd.read_csv('/content/test_set_sentiment.csv', index=False)"
      ],
      "metadata": {
        "id": "r9qbN2wEjAG2"
      },
      "execution_count": null,
      "outputs": []
    },
    {
      "cell_type": "code",
      "source": [
        "test_df.head()"
      ],
      "metadata": {
        "colab": {
          "base_uri": "https://localhost:8080/",
          "height": 747
        },
        "id": "-FFD9fnF0MBJ",
        "outputId": "6166da89-3a93-45b8-96eb-23358ed6f14d"
      },
      "execution_count": null,
      "outputs": [
        {
          "output_type": "execute_result",
          "data": {
            "text/plain": [
              "   Unnamed: 0  index        Subreddit  \\\n",
              "0        8197   8197       VictoriaBC   \n",
              "1        1259   1259       VictoriaBC   \n",
              "2       10403  10403  britishcolumbia   \n",
              "3       10606  10606  britishcolumbia   \n",
              "4         618    618       VictoriaBC   \n",
              "\n",
              "                                               Title  \\\n",
              "0               Relying on rental income in Oak Bay?   \n",
              "1  City Council opposes efforts to increase housi...   \n",
              "2  B.C. housing minister tells people not to help...   \n",
              "3  Vaughn Palmer: End of the line for single-fami...   \n",
              "4  Will the housing market ever change for the be...   \n",
              "\n",
              "                                                Text  \\\n",
              "0  We are considering putting an offer on a house...   \n",
              "1  [Link to article: In Fairfield, plans for smal...   \n",
              "2                                                NaN   \n",
              "3                                                NaN   \n",
              "4  I’m a part of the younger generation and it se...   \n",
              "\n",
              "                                           TitleText manual_sentiment_label  \\\n",
              "0  Relying on rental income in Oak Bay?. We are c...                Neutral   \n",
              "1  City Council opposes efforts to increase housi...               Negative   \n",
              "2  B.C. housing minister tells people not to help...               Negative   \n",
              "3  Vaughn Palmer: End of the line for single-fami...                Neutral   \n",
              "4  Will the housing market ever change for the be...               Negative   \n",
              "\n",
              "  Sentiment_Full Sentence_Level_Sentiment_Compund  \\\n",
              "0        Neutral                          Neutral   \n",
              "1       Negative                          Neutral   \n",
              "2       Negative                         Negative   \n",
              "3        Neutral                          Neutral   \n",
              "4       Positive                         Positive   \n",
              "\n",
              "  Relevent_Sentence_Sentiment_Compund sentiment_TextBlob_Full  \\\n",
              "0                             Neutral                Positive   \n",
              "1                             Neutral                Positive   \n",
              "2                            Negative                Negative   \n",
              "3                             Neutral                Positive   \n",
              "4                             Neutral                Positive   \n",
              "\n",
              "  sentiment_TextBlob_Compound relevant_sent_sentiment_TextBlob_Full  \\\n",
              "0                    Positive                               Neutral   \n",
              "1                    Positive                              Positive   \n",
              "2                    Negative                              Negative   \n",
              "3                    Positive                              Positive   \n",
              "4                    Positive                              Positive   \n",
              "\n",
              "  sentiment_bert_all relevant_sent_bert_all  \n",
              "0           Negative               Negative  \n",
              "1           Negative               Negative  \n",
              "2           Negative               Negative  \n",
              "3           Positive               Positive  \n",
              "4           Negative               Negative  "
            ],
            "text/html": [
              "\n",
              "  <div id=\"df-faa2a068-9c19-43d1-8e8d-9d14e14af255\" class=\"colab-df-container\">\n",
              "    <div>\n",
              "<style scoped>\n",
              "    .dataframe tbody tr th:only-of-type {\n",
              "        vertical-align: middle;\n",
              "    }\n",
              "\n",
              "    .dataframe tbody tr th {\n",
              "        vertical-align: top;\n",
              "    }\n",
              "\n",
              "    .dataframe thead th {\n",
              "        text-align: right;\n",
              "    }\n",
              "</style>\n",
              "<table border=\"1\" class=\"dataframe\">\n",
              "  <thead>\n",
              "    <tr style=\"text-align: right;\">\n",
              "      <th></th>\n",
              "      <th>Unnamed: 0</th>\n",
              "      <th>index</th>\n",
              "      <th>Subreddit</th>\n",
              "      <th>Title</th>\n",
              "      <th>Text</th>\n",
              "      <th>TitleText</th>\n",
              "      <th>manual_sentiment_label</th>\n",
              "      <th>Sentiment_Full</th>\n",
              "      <th>Sentence_Level_Sentiment_Compund</th>\n",
              "      <th>Relevent_Sentence_Sentiment_Compund</th>\n",
              "      <th>sentiment_TextBlob_Full</th>\n",
              "      <th>sentiment_TextBlob_Compound</th>\n",
              "      <th>relevant_sent_sentiment_TextBlob_Full</th>\n",
              "      <th>sentiment_bert_all</th>\n",
              "      <th>relevant_sent_bert_all</th>\n",
              "    </tr>\n",
              "  </thead>\n",
              "  <tbody>\n",
              "    <tr>\n",
              "      <th>0</th>\n",
              "      <td>8197</td>\n",
              "      <td>8197</td>\n",
              "      <td>VictoriaBC</td>\n",
              "      <td>Relying on rental income in Oak Bay?</td>\n",
              "      <td>We are considering putting an offer on a house...</td>\n",
              "      <td>Relying on rental income in Oak Bay?. We are c...</td>\n",
              "      <td>Neutral</td>\n",
              "      <td>Neutral</td>\n",
              "      <td>Neutral</td>\n",
              "      <td>Neutral</td>\n",
              "      <td>Positive</td>\n",
              "      <td>Positive</td>\n",
              "      <td>Neutral</td>\n",
              "      <td>Negative</td>\n",
              "      <td>Negative</td>\n",
              "    </tr>\n",
              "    <tr>\n",
              "      <th>1</th>\n",
              "      <td>1259</td>\n",
              "      <td>1259</td>\n",
              "      <td>VictoriaBC</td>\n",
              "      <td>City Council opposes efforts to increase housi...</td>\n",
              "      <td>[Link to article: In Fairfield, plans for smal...</td>\n",
              "      <td>City Council opposes efforts to increase housi...</td>\n",
              "      <td>Negative</td>\n",
              "      <td>Negative</td>\n",
              "      <td>Neutral</td>\n",
              "      <td>Neutral</td>\n",
              "      <td>Positive</td>\n",
              "      <td>Positive</td>\n",
              "      <td>Positive</td>\n",
              "      <td>Negative</td>\n",
              "      <td>Negative</td>\n",
              "    </tr>\n",
              "    <tr>\n",
              "      <th>2</th>\n",
              "      <td>10403</td>\n",
              "      <td>10403</td>\n",
              "      <td>britishcolumbia</td>\n",
              "      <td>B.C. housing minister tells people not to help...</td>\n",
              "      <td>NaN</td>\n",
              "      <td>B.C. housing minister tells people not to help...</td>\n",
              "      <td>Negative</td>\n",
              "      <td>Negative</td>\n",
              "      <td>Negative</td>\n",
              "      <td>Negative</td>\n",
              "      <td>Negative</td>\n",
              "      <td>Negative</td>\n",
              "      <td>Negative</td>\n",
              "      <td>Negative</td>\n",
              "      <td>Negative</td>\n",
              "    </tr>\n",
              "    <tr>\n",
              "      <th>3</th>\n",
              "      <td>10606</td>\n",
              "      <td>10606</td>\n",
              "      <td>britishcolumbia</td>\n",
              "      <td>Vaughn Palmer: End of the line for single-fami...</td>\n",
              "      <td>NaN</td>\n",
              "      <td>Vaughn Palmer: End of the line for single-fami...</td>\n",
              "      <td>Neutral</td>\n",
              "      <td>Neutral</td>\n",
              "      <td>Neutral</td>\n",
              "      <td>Neutral</td>\n",
              "      <td>Positive</td>\n",
              "      <td>Positive</td>\n",
              "      <td>Positive</td>\n",
              "      <td>Positive</td>\n",
              "      <td>Positive</td>\n",
              "    </tr>\n",
              "    <tr>\n",
              "      <th>4</th>\n",
              "      <td>618</td>\n",
              "      <td>618</td>\n",
              "      <td>VictoriaBC</td>\n",
              "      <td>Will the housing market ever change for the be...</td>\n",
              "      <td>I’m a part of the younger generation and it se...</td>\n",
              "      <td>Will the housing market ever change for the be...</td>\n",
              "      <td>Negative</td>\n",
              "      <td>Positive</td>\n",
              "      <td>Positive</td>\n",
              "      <td>Neutral</td>\n",
              "      <td>Positive</td>\n",
              "      <td>Positive</td>\n",
              "      <td>Positive</td>\n",
              "      <td>Negative</td>\n",
              "      <td>Negative</td>\n",
              "    </tr>\n",
              "  </tbody>\n",
              "</table>\n",
              "</div>\n",
              "    <div class=\"colab-df-buttons\">\n",
              "\n",
              "  <div class=\"colab-df-container\">\n",
              "    <button class=\"colab-df-convert\" onclick=\"convertToInteractive('df-faa2a068-9c19-43d1-8e8d-9d14e14af255')\"\n",
              "            title=\"Convert this dataframe to an interactive table.\"\n",
              "            style=\"display:none;\">\n",
              "\n",
              "  <svg xmlns=\"http://www.w3.org/2000/svg\" height=\"24px\" viewBox=\"0 -960 960 960\">\n",
              "    <path d=\"M120-120v-720h720v720H120Zm60-500h600v-160H180v160Zm220 220h160v-160H400v160Zm0 220h160v-160H400v160ZM180-400h160v-160H180v160Zm440 0h160v-160H620v160ZM180-180h160v-160H180v160Zm440 0h160v-160H620v160Z\"/>\n",
              "  </svg>\n",
              "    </button>\n",
              "\n",
              "  <style>\n",
              "    .colab-df-container {\n",
              "      display:flex;\n",
              "      gap: 12px;\n",
              "    }\n",
              "\n",
              "    .colab-df-convert {\n",
              "      background-color: #E8F0FE;\n",
              "      border: none;\n",
              "      border-radius: 50%;\n",
              "      cursor: pointer;\n",
              "      display: none;\n",
              "      fill: #1967D2;\n",
              "      height: 32px;\n",
              "      padding: 0 0 0 0;\n",
              "      width: 32px;\n",
              "    }\n",
              "\n",
              "    .colab-df-convert:hover {\n",
              "      background-color: #E2EBFA;\n",
              "      box-shadow: 0px 1px 2px rgba(60, 64, 67, 0.3), 0px 1px 3px 1px rgba(60, 64, 67, 0.15);\n",
              "      fill: #174EA6;\n",
              "    }\n",
              "\n",
              "    .colab-df-buttons div {\n",
              "      margin-bottom: 4px;\n",
              "    }\n",
              "\n",
              "    [theme=dark] .colab-df-convert {\n",
              "      background-color: #3B4455;\n",
              "      fill: #D2E3FC;\n",
              "    }\n",
              "\n",
              "    [theme=dark] .colab-df-convert:hover {\n",
              "      background-color: #434B5C;\n",
              "      box-shadow: 0px 1px 3px 1px rgba(0, 0, 0, 0.15);\n",
              "      filter: drop-shadow(0px 1px 2px rgba(0, 0, 0, 0.3));\n",
              "      fill: #FFFFFF;\n",
              "    }\n",
              "  </style>\n",
              "\n",
              "    <script>\n",
              "      const buttonEl =\n",
              "        document.querySelector('#df-faa2a068-9c19-43d1-8e8d-9d14e14af255 button.colab-df-convert');\n",
              "      buttonEl.style.display =\n",
              "        google.colab.kernel.accessAllowed ? 'block' : 'none';\n",
              "\n",
              "      async function convertToInteractive(key) {\n",
              "        const element = document.querySelector('#df-faa2a068-9c19-43d1-8e8d-9d14e14af255');\n",
              "        const dataTable =\n",
              "          await google.colab.kernel.invokeFunction('convertToInteractive',\n",
              "                                                    [key], {});\n",
              "        if (!dataTable) return;\n",
              "\n",
              "        const docLinkHtml = 'Like what you see? Visit the ' +\n",
              "          '<a target=\"_blank\" href=https://colab.research.google.com/notebooks/data_table.ipynb>data table notebook</a>'\n",
              "          + ' to learn more about interactive tables.';\n",
              "        element.innerHTML = '';\n",
              "        dataTable['output_type'] = 'display_data';\n",
              "        await google.colab.output.renderOutput(dataTable, element);\n",
              "        const docLink = document.createElement('div');\n",
              "        docLink.innerHTML = docLinkHtml;\n",
              "        element.appendChild(docLink);\n",
              "      }\n",
              "    </script>\n",
              "  </div>\n",
              "\n",
              "\n",
              "<div id=\"df-62fd70fd-377e-44a3-b5eb-47d2751f637b\">\n",
              "  <button class=\"colab-df-quickchart\" onclick=\"quickchart('df-62fd70fd-377e-44a3-b5eb-47d2751f637b')\"\n",
              "            title=\"Suggest charts\"\n",
              "            style=\"display:none;\">\n",
              "\n",
              "<svg xmlns=\"http://www.w3.org/2000/svg\" height=\"24px\"viewBox=\"0 0 24 24\"\n",
              "     width=\"24px\">\n",
              "    <g>\n",
              "        <path d=\"M19 3H5c-1.1 0-2 .9-2 2v14c0 1.1.9 2 2 2h14c1.1 0 2-.9 2-2V5c0-1.1-.9-2-2-2zM9 17H7v-7h2v7zm4 0h-2V7h2v10zm4 0h-2v-4h2v4z\"/>\n",
              "    </g>\n",
              "</svg>\n",
              "  </button>\n",
              "\n",
              "<style>\n",
              "  .colab-df-quickchart {\n",
              "      --bg-color: #E8F0FE;\n",
              "      --fill-color: #1967D2;\n",
              "      --hover-bg-color: #E2EBFA;\n",
              "      --hover-fill-color: #174EA6;\n",
              "      --disabled-fill-color: #AAA;\n",
              "      --disabled-bg-color: #DDD;\n",
              "  }\n",
              "\n",
              "  [theme=dark] .colab-df-quickchart {\n",
              "      --bg-color: #3B4455;\n",
              "      --fill-color: #D2E3FC;\n",
              "      --hover-bg-color: #434B5C;\n",
              "      --hover-fill-color: #FFFFFF;\n",
              "      --disabled-bg-color: #3B4455;\n",
              "      --disabled-fill-color: #666;\n",
              "  }\n",
              "\n",
              "  .colab-df-quickchart {\n",
              "    background-color: var(--bg-color);\n",
              "    border: none;\n",
              "    border-radius: 50%;\n",
              "    cursor: pointer;\n",
              "    display: none;\n",
              "    fill: var(--fill-color);\n",
              "    height: 32px;\n",
              "    padding: 0;\n",
              "    width: 32px;\n",
              "  }\n",
              "\n",
              "  .colab-df-quickchart:hover {\n",
              "    background-color: var(--hover-bg-color);\n",
              "    box-shadow: 0 1px 2px rgba(60, 64, 67, 0.3), 0 1px 3px 1px rgba(60, 64, 67, 0.15);\n",
              "    fill: var(--button-hover-fill-color);\n",
              "  }\n",
              "\n",
              "  .colab-df-quickchart-complete:disabled,\n",
              "  .colab-df-quickchart-complete:disabled:hover {\n",
              "    background-color: var(--disabled-bg-color);\n",
              "    fill: var(--disabled-fill-color);\n",
              "    box-shadow: none;\n",
              "  }\n",
              "\n",
              "  .colab-df-spinner {\n",
              "    border: 2px solid var(--fill-color);\n",
              "    border-color: transparent;\n",
              "    border-bottom-color: var(--fill-color);\n",
              "    animation:\n",
              "      spin 1s steps(1) infinite;\n",
              "  }\n",
              "\n",
              "  @keyframes spin {\n",
              "    0% {\n",
              "      border-color: transparent;\n",
              "      border-bottom-color: var(--fill-color);\n",
              "      border-left-color: var(--fill-color);\n",
              "    }\n",
              "    20% {\n",
              "      border-color: transparent;\n",
              "      border-left-color: var(--fill-color);\n",
              "      border-top-color: var(--fill-color);\n",
              "    }\n",
              "    30% {\n",
              "      border-color: transparent;\n",
              "      border-left-color: var(--fill-color);\n",
              "      border-top-color: var(--fill-color);\n",
              "      border-right-color: var(--fill-color);\n",
              "    }\n",
              "    40% {\n",
              "      border-color: transparent;\n",
              "      border-right-color: var(--fill-color);\n",
              "      border-top-color: var(--fill-color);\n",
              "    }\n",
              "    60% {\n",
              "      border-color: transparent;\n",
              "      border-right-color: var(--fill-color);\n",
              "    }\n",
              "    80% {\n",
              "      border-color: transparent;\n",
              "      border-right-color: var(--fill-color);\n",
              "      border-bottom-color: var(--fill-color);\n",
              "    }\n",
              "    90% {\n",
              "      border-color: transparent;\n",
              "      border-bottom-color: var(--fill-color);\n",
              "    }\n",
              "  }\n",
              "</style>\n",
              "\n",
              "  <script>\n",
              "    async function quickchart(key) {\n",
              "      const quickchartButtonEl =\n",
              "        document.querySelector('#' + key + ' button');\n",
              "      quickchartButtonEl.disabled = true;  // To prevent multiple clicks.\n",
              "      quickchartButtonEl.classList.add('colab-df-spinner');\n",
              "      try {\n",
              "        const charts = await google.colab.kernel.invokeFunction(\n",
              "            'suggestCharts', [key], {});\n",
              "      } catch (error) {\n",
              "        console.error('Error during call to suggestCharts:', error);\n",
              "      }\n",
              "      quickchartButtonEl.classList.remove('colab-df-spinner');\n",
              "      quickchartButtonEl.classList.add('colab-df-quickchart-complete');\n",
              "    }\n",
              "    (() => {\n",
              "      let quickchartButtonEl =\n",
              "        document.querySelector('#df-62fd70fd-377e-44a3-b5eb-47d2751f637b button');\n",
              "      quickchartButtonEl.style.display =\n",
              "        google.colab.kernel.accessAllowed ? 'block' : 'none';\n",
              "    })();\n",
              "  </script>\n",
              "</div>\n",
              "\n",
              "    </div>\n",
              "  </div>\n"
            ],
            "application/vnd.google.colaboratory.intrinsic+json": {
              "type": "dataframe",
              "variable_name": "test_df",
              "summary": "{\n  \"name\": \"test_df\",\n  \"rows\": 20,\n  \"fields\": [\n    {\n      \"column\": \"Unnamed: 0\",\n      \"properties\": {\n        \"dtype\": \"number\",\n        \"std\": 4180,\n        \"min\": 86,\n        \"max\": 11128,\n        \"num_unique_values\": 20,\n        \"samples\": [\n          8197,\n          661,\n          11128\n        ],\n        \"semantic_type\": \"\",\n        \"description\": \"\"\n      }\n    },\n    {\n      \"column\": \"index\",\n      \"properties\": {\n        \"dtype\": \"number\",\n        \"std\": 4180,\n        \"min\": 86,\n        \"max\": 11128,\n        \"num_unique_values\": 20,\n        \"samples\": [\n          8197,\n          661,\n          11128\n        ],\n        \"semantic_type\": \"\",\n        \"description\": \"\"\n      }\n    },\n    {\n      \"column\": \"Subreddit\",\n      \"properties\": {\n        \"dtype\": \"category\",\n        \"num_unique_values\": 3,\n        \"samples\": [\n          \"VictoriaBC\",\n          \"britishcolumbia\",\n          \"SaanichPeninsula\"\n        ],\n        \"semantic_type\": \"\",\n        \"description\": \"\"\n      }\n    },\n    {\n      \"column\": \"Title\",\n      \"properties\": {\n        \"dtype\": \"string\",\n        \"num_unique_values\": 20,\n        \"samples\": [\n          \"Relying on rental income in Oak Bay?\",\n          \"Third-generation landowner wants exemption from speculation tax\",\n          \"This B.C. landlord was shocked to find his rental suite listed on Airbnb. Now, he wants stricter regulations\"\n        ],\n        \"semantic_type\": \"\",\n        \"description\": \"\"\n      }\n    },\n    {\n      \"column\": \"Text\",\n      \"properties\": {\n        \"dtype\": \"string\",\n        \"num_unique_values\": 14,\n        \"samples\": [\n          \"I'm looking for a private doctor. I have amazing insurance with my work. I want to renew my prescription without having to wait 2 to 3 hours at a walk-in clinic. Is there any private clinics in Victoria? Would it be easier in Vancouver? I'm willing to fly to Vancouver just to NOT go in a walk-in clinic.\\n\\nEDIT; My med cannot be prescribed online, it's against the law in BC.\",\n          \"https://www.timescolonist.com/opinion/op-ed/comment-victoria-is-facing-a-public-safety-crisis-1.24361659\\n\\nA commentary by a Victoria city councillor.\\n\\nThe City of Victoria is in a \\u00adpublic-safety crisis. The first step to solving the growing threat to public safety is to acknowledge it as real and take immediate action. If that is not done, it is difficult to see how we can continue to function as a city.\\n\\nOur police, bylaw and animal-control departments are in crisis. They are understaffed and overworked. The tone from inside these departments is that \\u201cwe are dropping like flies.\\u201d\\n\\n The numbers speak for themselves. VicPD has 52 members unable to be deployed due to injury or PTSD, including 17 recruits at the Justice Institute. Hours lost to injury and PTSD tripled since 2018, from 1,051 to 3,361.\\n\\nIt\\u2019s getting worse, with assaults on officers, including being knocked unconscious, attacked while volunteering and recently even being struck by a stolen vehicle.\\n\\nVicPD often runs below minimum staffing numbers for patrol shifts. At one time, \\u00adofficers were glad to work overtime, but no more. They are increasingly burnt out and shifts are going unfilled.\\n\\nThe response time for \\u201cpriority one\\u201d calls, such as threat to life or assault, is now 15 minutes.\\n\\nChief Del Manak tells council this is \\u201can unacceptable level.\\u201d That is an understatement \\u2014 it is dangerous.\\n\\nMorale is badly diminished. Numerous sources say from 10 to 18 officers are actively looking to leave VicPD for other departments such as \\u00adSaanich, Oak Bay, Surrey and the RCMP. Several veteran officers recently said they have never seen morale so low.\\n\\nThe union says part of the problem is that VicPD handles more work per officer than any other capital region police department, and those VicPD officers get less pay.\\n\\nAs a front-line officer recently said: \\u201cIt\\u2019s not really about the money. We need \\u00adhelp. We feel abandoned, underappreciated and everyday face \\u2018anti-police\\u2019 comments. It\\u2019s not great right now.\\u201d\\n\\nThroughout the ranks, there is concern that if help doesn\\u2019t come soon, surviving the crisis will be next to impossible.\\n\\nOut of necessity, basic maintenance of public order now rests with city bylaw officers. That department estimates it spends 80 per cent of its time dealing with public safety issues in parks and on the streets, and trying to prevent further encampments.\\n\\nThat leaves little time to deal with a growing list of resident complaints, such as noise, infractions and investigations.\\n\\nVicPD\\u2019s union believes increased provincial shelters and housing programs \\u00adconsume much of their resources. Recently the union told the police board that \\u201cthe situation has become increasingly worse.\\u201d\\n\\nBetween June 12 and Sept. 3, the department responded to 2,701 calls for service to these facilities. In comparison, it responded to 973 calls for the entire municipality of Esquimalt.\\n\\nWe all need to step up and advocate that more resources must be allocated to manage the crisis.\\n\\nThe province must take responsibility for downloading the policing and social cost of its housing initiatives onto the city. The province should consider a program such as the Toronto Public Housing one that focuses public safety on supported housing with its own police department, supported by officers who don\\u2019t carry guns or tasers.\\n\\nThe province needs to find a way to keep dangerous criminals and repeat serial offenders off our streets and out of the revolving door of crime and arrest and catch and release.\\n\\nOtherwise, the public is left without hope for improvement, and the police with growing frustration that their work doesn\\u2019t matter.\\n\\nManak must continue to be bold and courageous and demand what is needed for his department to turn things around. The same goes for the bylaw department.\\n\\nCouncil must acknowledge and support our police and bylaw officers while it increases advocacy for mental health and addiction from higher levels of government.\\n\\nAnd you must voice your \\u00adsupport to improve public safety by writing to mayorandcouncil@victoria.ca.\\n\\nOnly if we all work together on this crisis will real change occur.\",\n          \"We are considering putting an offer on a house in Oak Bay but we would be reliant on rental income to make it work financially. Given the legalities of Oak Bay rental suites (i.e. they aren't legal), is it crazy for us to rely on this? Or does this happen all the time and is generally informally accepted?\\nNew to Victoria so not too sure about all the rules/customs, thanks!\"\n        ],\n        \"semantic_type\": \"\",\n        \"description\": \"\"\n      }\n    },\n    {\n      \"column\": \"TitleText\",\n      \"properties\": {\n        \"dtype\": \"string\",\n        \"num_unique_values\": 20,\n        \"samples\": [\n          \"Relying on rental income in Oak Bay?. We are considering putting an offer on a house in Oak Bay but we would be reliant on rental income to make it work financially. Given the legalities of Oak Bay rental suites (i.e. they aren't legal), is it crazy for us to rely on this? Or does this happen all the time and is generally informally accepted?\\nNew to Victoria so not too sure about all the rules/customs, thanks!\",\n          \"Third-generation landowner wants exemption from speculation tax. From the TC \\n\\n&#x200B;\\n\\nThe third-generation owner of a waterfront property in North Saanich  is urging the province to create an exemption under its speculation and  vacancy tax for long-term owners such as himself.\\n\\nHis property \\u2014 considered the family homestead \\u2014 is not being held  for speculation, said retired businessman Malcolm Winspear of Dallas,  Texas.\\n\\nThe intention was always to keep it in the family, said Winspear,  who has a son and a daughter. But he is now weighing whether to hold  onto the site, purchased by his grandfather, philanthropist Francis  Winspear, decades ago.\\n\\nMalcolm Winspear said it makes sense to grant an exemption from the  tax in cases such as his, based on length of owner\\u00adship. The speculation  and vacancy tax is two per cent of the assessed value of a property.\\n\\nThis year, Winspear, who holds dual Canadian and U.S. citizenship,  and his wife, Jill, were each charged half the total amount of the  speculation tax, which totalled close to $40,000, for their Ardmore  Drive property.\\n\\n\\u201cI\\u2019m afraid that it is becoming \\u2014 now with this tax \\u2014 so expensive that I may not be able to keep it,\\u201d Winspear said.\\n\\nHe anticipates rising property values will see the annual speculation tax reach $50,000.\\n\\nWithin 10 years, it could add up to $500,000 or $1 million over two decades, Winspear said.\\n\\nThe speculation tax does not include other property taxes levied on  property or the cost of upkeep. \\u201cIt\\u2019s become a hugely expensive  property,\\u201d he said. \\u201cIt\\u2019s really a case of: Is it appropriate to charge  that kind of money on a property that\\u2019s a vacation home?\\u201d\\n\\nB.C.\\u2019s speculation and vacancy tax was announced in the 2018 budget,  aimed at reducing the number of empty homes and helping to tackle the a  shortage of affordable housing. It was intended to encourage owners of  vacant homes to offer them for rent or sell them.\\n\\nThe tax \\u2014 which applies to Greater Victoria, Nanaimo, Lantzville,  Metro Vancouver, the Fraser Valley, Kelowna and West Kelowna \\u2014 attracted  immediate criticism from affected property owners.\\n\\nB.C.\\u2019s Finance Ministry figures that 32,000 people, or about one per  cent of homeowners, pay the tax. The province collected $115 million in  the 2018-19 fiscal year. Since then, the tax rate on foreign owners and  satellite families increased to two per cent from 0.5 per cent.\\n\\nRenting is not an option for Winspear because the family wants to  continue having access throughout the year. Other exemptions to the tax  can include major home renovations, divorce, hospitalization and  extended absence.\\n\\nTypically, the Winspears are at their Ardmore property three or four  months in a year, staying from a week to a month or so at at time, and  hosting other family members. They have been in North Saanich for the  past few months.\\n\\nThe 1940s house is about 2,000 square feet and is like a vacation  cottage, used for family get-togethers and recreation for decades. It is  nothing like mansions built on other Ardmore properties, where  assessments are high, Winspear said.\\n\\n\\u201cIf I\\u2019m third-generation owner of a property, why am I being charged  with a speculation tax that is intended for vacant properties or  foreign owners who don\\u2019t use them?\\u201d he said.\\n\\nThe Winspear family and its foundation have donated millions of  dollars to initiatives such as the Mary Winspear Centre in Sidney, the  Bessie Brooks Winspear Music and Media Commons at the University of  Victoria, and, in Edmonton, the Francis Winspear Centre for Music.\\n\\nFrancis Winspear was born in England and moved with his family to  Alberta as a boy, founding a successful accounting firm as an adult. He  died in 1997. Mary Winspear was his sister and Bessie was his wife.\\n\\nIt would be difficult to part with the property, Malcolm Winspear said. \\u201cI am very deeply attached to it.\\u201d\\n\\nWinspear has moved a lot during his career. \\u201cThis is the only place  that\\u2019s really been constant my entire life. I call this home. I just  don\\u2019t live here enough to avoid paying this tax.\\u201d\",\n          \"This B.C. landlord was shocked to find his rental suite listed on Airbnb. Now, he wants stricter regulations. \"\n        ],\n        \"semantic_type\": \"\",\n        \"description\": \"\"\n      }\n    },\n    {\n      \"column\": \"manual_sentiment_label\",\n      \"properties\": {\n        \"dtype\": \"category\",\n        \"num_unique_values\": 2,\n        \"samples\": [\n          \"Negative\",\n          \"Neutral\"\n        ],\n        \"semantic_type\": \"\",\n        \"description\": \"\"\n      }\n    },\n    {\n      \"column\": \"Sentiment_Full\",\n      \"properties\": {\n        \"dtype\": \"category\",\n        \"num_unique_values\": 3,\n        \"samples\": [\n          \"Neutral\",\n          \"Negative\"\n        ],\n        \"semantic_type\": \"\",\n        \"description\": \"\"\n      }\n    },\n    {\n      \"column\": \"Sentence_Level_Sentiment_Compund\",\n      \"properties\": {\n        \"dtype\": \"category\",\n        \"num_unique_values\": 3,\n        \"samples\": [\n          \"Neutral\",\n          \"Negative\"\n        ],\n        \"semantic_type\": \"\",\n        \"description\": \"\"\n      }\n    },\n    {\n      \"column\": \"Relevent_Sentence_Sentiment_Compund\",\n      \"properties\": {\n        \"dtype\": \"category\",\n        \"num_unique_values\": 3,\n        \"samples\": [\n          \"Neutral\",\n          \"Negative\"\n        ],\n        \"semantic_type\": \"\",\n        \"description\": \"\"\n      }\n    },\n    {\n      \"column\": \"sentiment_TextBlob_Full\",\n      \"properties\": {\n        \"dtype\": \"category\",\n        \"num_unique_values\": 3,\n        \"samples\": [\n          \"Positive\",\n          \"Negative\"\n        ],\n        \"semantic_type\": \"\",\n        \"description\": \"\"\n      }\n    },\n    {\n      \"column\": \"sentiment_TextBlob_Compound\",\n      \"properties\": {\n        \"dtype\": \"category\",\n        \"num_unique_values\": 3,\n        \"samples\": [\n          \"Positive\",\n          \"Negative\"\n        ],\n        \"semantic_type\": \"\",\n        \"description\": \"\"\n      }\n    },\n    {\n      \"column\": \"relevant_sent_sentiment_TextBlob_Full\",\n      \"properties\": {\n        \"dtype\": \"category\",\n        \"num_unique_values\": 3,\n        \"samples\": [\n          \"Neutral\",\n          \"Positive\"\n        ],\n        \"semantic_type\": \"\",\n        \"description\": \"\"\n      }\n    },\n    {\n      \"column\": \"sentiment_bert_all\",\n      \"properties\": {\n        \"dtype\": \"category\",\n        \"num_unique_values\": 3,\n        \"samples\": [\n          \"Negative\",\n          \"Positive\"\n        ],\n        \"semantic_type\": \"\",\n        \"description\": \"\"\n      }\n    },\n    {\n      \"column\": \"relevant_sent_bert_all\",\n      \"properties\": {\n        \"dtype\": \"category\",\n        \"num_unique_values\": 3,\n        \"samples\": [\n          \"Negative\",\n          \"Positive\"\n        ],\n        \"semantic_type\": \"\",\n        \"description\": \"\"\n      }\n    }\n  ]\n}"
            }
          },
          "metadata": {},
          "execution_count": 18
        }
      ]
    },
    {
      "cell_type": "code",
      "source": [
        "posts =  test_df.TitleText.to_list()"
      ],
      "metadata": {
        "id": "3gHU40gjtaVo"
      },
      "execution_count": null,
      "outputs": []
    },
    {
      "cell_type": "code",
      "source": [
        "sentiment_analysis_reddit(posts[0])"
      ],
      "metadata": {
        "colab": {
          "base_uri": "https://localhost:8080/"
        },
        "id": "HBHZqANFGbA1",
        "outputId": "06001df2-c488-47ab-d65d-8ab8d2d32182"
      },
      "execution_count": null,
      "outputs": [
        {
          "output_type": "stream",
          "name": "stderr",
          "text": [
            "Some weights of the model checkpoint at cardiffnlp/twitter-roberta-base-sentiment-latest were not used when initializing RobertaForSequenceClassification: ['roberta.pooler.dense.bias', 'roberta.pooler.dense.weight']\n",
            "- This IS expected if you are initializing RobertaForSequenceClassification from the checkpoint of a model trained on another task or with another architecture (e.g. initializing a BertForSequenceClassification model from a BertForPreTraining model).\n",
            "- This IS NOT expected if you are initializing RobertaForSequenceClassification from the checkpoint of a model that you expect to be exactly identical (initializing a BertForSequenceClassification model from a BertForSequenceClassification model).\n"
          ]
        },
        {
          "output_type": "stream",
          "name": "stdout",
          "text": [
            "{'positive': 0, 'negative': 0, 'neutral': 2}\n",
            "{'positive': 0, 'negative': 0, 'neutral': 1.5368006825447083}\n"
          ]
        },
        {
          "output_type": "execute_result",
          "data": {
            "text/plain": [
              "{'label': 'Neutral', 'score': 0.7684003412723541}"
            ]
          },
          "metadata": {},
          "execution_count": 20
        }
      ]
    },
    {
      "cell_type": "code",
      "source": [
        "#Test\n",
        "sentiment_analysis_reddit(\"\")"
      ],
      "metadata": {
        "colab": {
          "base_uri": "https://localhost:8080/"
        },
        "id": "cjrjwwIZmzer",
        "outputId": "177bd362-d35c-436f-cfc1-ef6b1242a27c"
      },
      "execution_count": null,
      "outputs": [
        {
          "output_type": "stream",
          "name": "stderr",
          "text": [
            "Some weights of the model checkpoint at cardiffnlp/twitter-roberta-base-sentiment-latest were not used when initializing RobertaForSequenceClassification: ['roberta.pooler.dense.bias', 'roberta.pooler.dense.weight']\n",
            "- This IS expected if you are initializing RobertaForSequenceClassification from the checkpoint of a model trained on another task or with another architecture (e.g. initializing a BertForSequenceClassification model from a BertForPreTraining model).\n",
            "- This IS NOT expected if you are initializing RobertaForSequenceClassification from the checkpoint of a model that you expect to be exactly identical (initializing a BertForSequenceClassification model from a BertForSequenceClassification model).\n"
          ]
        },
        {
          "output_type": "stream",
          "name": "stdout",
          "text": [
            "{'positive': 0, 'negative': 0, 'neutral': 0}\n",
            "{'positive': 0, 'negative': 0, 'neutral': 0}\n"
          ]
        },
        {
          "output_type": "execute_result",
          "data": {
            "text/plain": [
              "{'label': None, 'score': None}"
            ]
          },
          "metadata": {},
          "execution_count": 16
        }
      ]
    },
    {
      "cell_type": "code",
      "source": [
        "sentiments = list()\n",
        "score = list()\n",
        "cnt = 0\n",
        "for post in posts:\n",
        "  print(cnt)\n",
        "  sentiment = sentiment_analysis_reddit(post)\n",
        "  cnt+=1\n",
        "  sentiments.append(sentiment['label'])\n",
        "  score.append(sentiment['score'])"
      ],
      "metadata": {
        "id": "XHlI_IucZYF4"
      },
      "execution_count": null,
      "outputs": []
    },
    {
      "cell_type": "code",
      "source": [
        "test_df[\"roberta_sentiment\"] = sentiments\n",
        "test_df[\"roberta_sentiment_score\"] = score"
      ],
      "metadata": {
        "id": "34jh36SobSDl"
      },
      "execution_count": null,
      "outputs": []
    },
    {
      "cell_type": "code",
      "source": [
        "test_df.to_csv(\"/content/test_set_sentiment_scored.csv\")"
      ],
      "metadata": {
        "id": "0zKDksFpbYiT"
      },
      "execution_count": null,
      "outputs": []
    },
    {
      "cell_type": "code",
      "source": [],
      "metadata": {
        "id": "MvHKWKYFHrfw"
      },
      "execution_count": null,
      "outputs": []
    }
  ]
}